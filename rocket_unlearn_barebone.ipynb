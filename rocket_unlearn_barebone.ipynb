{
 "cells": [
  {
   "cell_type": "markdown",
   "id": "0ad7fe9f",
   "metadata": {},
   "source": [
    "importing libs"
   ]
  },
  {
   "cell_type": "code",
   "execution_count": 1,
   "id": "517452e5",
   "metadata": {},
   "outputs": [
    {
     "name": "stderr",
     "output_type": "stream",
     "text": [
      "C:\\Users\\Foopy\\AppData\\Local\\Packages\\PythonSoftwareFoundation.Python.3.10_qbz5n2kfra8p0\\LocalCache\\local-packages\\Python310\\site-packages\\tqdm\\auto.py:21: TqdmWarning: IProgress not found. Please update jupyter and ipywidgets. See https://ipywidgets.readthedocs.io/en/stable/user_install.html\n",
      "  from .autonotebook import tqdm as notebook_tqdm\n"
     ]
    }
   ],
   "source": [
    "import torch\n",
    "\n",
    "from dataset import *\n",
    "from model import ResNet18\n",
    "from unlearn import *\n",
    "from metrics import UnLearningScore\n",
    "from utils import *\n",
    "from torch.utils.data import DataLoader, Subset"
   ]
  },
  {
   "cell_type": "markdown",
   "id": "c7b02441",
   "metadata": {},
   "source": [
    "Load/Download datasets"
   ]
  },
  {
   "cell_type": "code",
   "execution_count": 2,
   "id": "f65344b0",
   "metadata": {},
   "outputs": [],
   "source": [
    "train_ds = CustomCIFAR100(root='.', train=True, download=True, transform=transform_train)\n",
    "valid_ds = CustomCIFAR100(root='.', train=False, download=True, transform=transform_train)"
   ]
  },
  {
   "cell_type": "markdown",
   "id": "199d92c6",
   "metadata": {},
   "source": [
    "Split into forget and retain subsets"
   ]
  },
  {
   "cell_type": "code",
   "execution_count": 3,
   "id": "2ca46bc5",
   "metadata": {},
   "outputs": [],
   "source": [
    "train_labels = torch.tensor([label for _, label, _ in train_ds])\n",
    "valid_labels = torch.tensor([label for _, label, _ in valid_ds])\n",
    "\n",
    "forget_train_ds = Subset(train_ds, torch.where(train_labels == 69)[0])\n",
    "forget_valid_ds = Subset(train_ds, torch.where(valid_labels == 69)[0])\n",
    "\n",
    "retain_train_ds = Subset(train_ds, torch.where(train_labels != 69)[0])\n",
    "retain_valid_ds = Subset(train_ds, torch.where(valid_labels != 69)[0])"
   ]
  },
  {
   "cell_type": "markdown",
   "id": "0531f6f1",
   "metadata": {},
   "source": [
    "unlearning (takes 50min on rtx3070)"
   ]
  },
  {
   "cell_type": "code",
   "execution_count": null,
   "id": "2841029f",
   "metadata": {},
   "outputs": [
    {
     "name": "stderr",
     "output_type": "stream",
     "text": [
      "C:\\Users\\Foopy\\AppData\\Local\\Packages\\PythonSoftwareFoundation.Python.3.10_qbz5n2kfra8p0\\LocalCache\\local-packages\\Python310\\site-packages\\torchvision\\models\\_utils.py:208: UserWarning: The parameter 'pretrained' is deprecated since 0.13 and may be removed in the future, please use 'weights' instead.\n",
      "  warnings.warn(\n",
      "C:\\Users\\Foopy\\AppData\\Local\\Packages\\PythonSoftwareFoundation.Python.3.10_qbz5n2kfra8p0\\LocalCache\\local-packages\\Python310\\site-packages\\torchvision\\models\\_utils.py:223: UserWarning: Arguments other than a weight enum or `None` for 'weights' are deprecated since 0.13 and may be removed in the future. The current behavior is equivalent to passing `weights=None`.\n",
      "  warnings.warn(msg)\n",
      "C:\\Users\\Foopy\\AppData\\Local\\Packages\\PythonSoftwareFoundation.Python.3.10_qbz5n2kfra8p0\\LocalCache\\local-packages\\Python310\\site-packages\\torchvision\\models\\_utils.py:223: UserWarning: Arguments other than a weight enum or `None` for 'weights' are deprecated since 0.13 and may be removed in the future. The current behavior is equivalent to passing `weights=ResNet18_Weights.IMAGENET1K_V1`. You can also use `weights=ResNet18_Weights.DEFAULT` to get the most up-to-date weights.\n",
      "  warnings.warn(msg)\n",
      "C:\\Users\\Foopy\\AppData\\Local\\Packages\\PythonSoftwareFoundation.Python.3.10_qbz5n2kfra8p0\\LocalCache\\local-packages\\Python310\\site-packages\\torch\\nn\\functional.py:3384: UserWarning: reduction: 'mean' divides the total loss by both the batch size and the support size.'batchmean' divides only by the batch size, and aligns with the KL div math definition.'mean' will be changed to behave the same as 'batchmean' in the next major release.\n",
      "  warnings.warn(\n"
     ]
    },
    {
     "name": "stdout",
     "output_type": "stream",
     "text": [
      "Epoch 1 Unlearning Loss 0.09074001014232635\n",
      "Epoch 2 Unlearning Loss 4.1592109482735395e-05\n",
      "Epoch 3 Unlearning Loss 2.60012639046181e-05\n",
      "Epoch 4 Unlearning Loss 1.4454371012107003e-05\n",
      "Epoch 5 Unlearning Loss 1.119279841077514e-05\n"
     ]
    }
   ],
   "source": [
    "device = 'cuda'\n",
    "\n",
    "model = ResNet18(num_classes = 20, pretrained = False).to(device)\n",
    "unlearning_teacher = ResNet18(num_classes = 20, pretrained = False).to(device).eval()\n",
    "full_trained_teacher = ResNet18(num_classes = 20, pretrained = True).to(device).eval()\n",
    "\n",
    "model.load_state_dict(torch.load(\"ResNET18_CIFAR100Super20_Pretrained_ALL_CLASSES_5_Epochs.pt\", map_location = device))\n",
    "full_trained_teacher.load_state_dict(torch.load(\"ResNET18_CIFAR100Super20_Pretrained_ALL_CLASSES_5_Epochs.pt\", map_location = device))\n",
    "\n",
    "batch_size = 256\n",
    "num_workers = 4\n",
    "\n",
    "blindspot_unlearner(model = model, unlearning_teacher = unlearning_teacher, full_trained_teacher = model, \n",
    "                    retain_data = retain_train_ds, forget_data = forget_train_ds, epochs = 5, lr = 0.0001, \n",
    "                    batch_size = batch_size, num_workers = num_workers, device = device)"
   ]
  },
  {
   "cell_type": "code",
   "execution_count": 5,
   "id": "feb748f0",
   "metadata": {},
   "outputs": [],
   "source": [
    "# Export unlearned model\n",
    "torch.save(model.state_dict(), \"ResNET18_CIFAR100Super20_Unlearned_5_Epochs.pt\")"
   ]
  },
  {
   "cell_type": "markdown",
   "id": "36032bb9",
   "metadata": {},
   "source": [
    "fully trained model vs unlearned model"
   ]
  },
  {
   "cell_type": "code",
   "execution_count": 6,
   "id": "54dd50df",
   "metadata": {},
   "outputs": [],
   "source": [
    "# Create Dataloader for retain and forget subset\n",
    "retain_valid_dl = DataLoader(retain_valid_ds, batch_size, num_workers = num_workers, pin_memory = True)\n",
    "forget_valid_dl = DataLoader(forget_valid_ds, batch_size, num_workers = num_workers, pin_memory = True)"
   ]
  },
  {
   "cell_type": "code",
   "execution_count": 7,
   "id": "3cae28c2",
   "metadata": {},
   "outputs": [
    {
     "data": {
      "text/plain": [
       "{'Loss': 0.17327338457107544, 'Acc': 94.4019775390625}"
      ]
     },
     "execution_count": 7,
     "metadata": {},
     "output_type": "execute_result"
    }
   ],
   "source": [
    "# Performance of Fully trained model on retain set\n",
    "evaluate(full_trained_teacher, retain_valid_dl, device)"
   ]
  },
  {
   "cell_type": "code",
   "execution_count": 8,
   "id": "9c4ddfb3",
   "metadata": {},
   "outputs": [
    {
     "data": {
      "text/plain": [
       "{'Loss': 0.1243857592344284, 'Acc': 97.0}"
      ]
     },
     "execution_count": 8,
     "metadata": {},
     "output_type": "execute_result"
    }
   ],
   "source": [
    "# Performance of Fully trained model on forget set\n",
    "evaluate(full_trained_teacher, forget_valid_dl, device)"
   ]
  },
  {
   "cell_type": "code",
   "execution_count": 9,
   "id": "06701e24",
   "metadata": {},
   "outputs": [
    {
     "data": {
      "text/plain": [
       "{'Loss': 3.4164977073669434, 'Acc': 5.052269458770752}"
      ]
     },
     "execution_count": 9,
     "metadata": {},
     "output_type": "execute_result"
    }
   ],
   "source": [
    "# performance of unlearned model on retain set\n",
    "evaluate(model, retain_valid_dl, device)"
   ]
  },
  {
   "cell_type": "code",
   "execution_count": 10,
   "id": "75166746",
   "metadata": {},
   "outputs": [
    {
     "data": {
      "text/plain": [
       "{'Loss': 3.5012197494506836, 'Acc': 4.0}"
      ]
     },
     "execution_count": 10,
     "metadata": {},
     "output_type": "execute_result"
    }
   ],
   "source": [
    "# performance of unlearned model on forget set\n",
    "evaluate(model, forget_valid_dl, device)"
   ]
  }
 ],
 "metadata": {
  "kernelspec": {
   "display_name": "Python 3",
   "language": "python",
   "name": "python3"
  },
  "language_info": {
   "codemirror_mode": {
    "name": "ipython",
    "version": 3
   },
   "file_extension": ".py",
   "mimetype": "text/x-python",
   "name": "python",
   "nbconvert_exporter": "python",
   "pygments_lexer": "ipython3",
   "version": "3.10.11"
  }
 },
 "nbformat": 4,
 "nbformat_minor": 5
}
